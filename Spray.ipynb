{
 "cells": [
  {
   "cell_type": "code",
   "execution_count": 2,
   "metadata": {},
   "outputs": [],
   "source": [
    "import pandas as pd\n",
    "import numpy as np\n",
    "import matplotlib.pyplot as plt\n",
    "import numpy as np\n",
    "from sklearn import datasets, linear_model\n",
    "from sklearn.metrics import mean_squared_error, r2_score\n",
    "from sklearn.model_selection import train_test_split"
   ]
  },
  {
   "cell_type": "code",
   "execution_count": 62,
   "metadata": {},
   "outputs": [],
   "source": [
    "spray = pd.DataFrame(pd.read_excel('Spray.xlsx'))\n",
    "spray_base = np.full((len(spray[\"Time for Work\"]), 1), np.mean(spray[\"Time for Work\"]))\n",
    "spray = pd.DataFrame({\"Area\":spray['Area '], \"Tank/Spray/AWL\":spray[\"Tank, Spray, or Awl Grip\"], \"Task\":spray[\"TASK\"], \\\n",
    "                     \"SQFT\":spray[\"SQFT\"], \"Time\":spray[\"Time for Work\"],'UPR':spray['Unadjusted Production Rate']})"
   ]
  },
  {
   "cell_type": "code",
   "execution_count": 5,
   "metadata": {},
   "outputs": [
    {
     "name": "stderr",
     "output_type": "stream",
     "text": [
      "C:\\Users\\mille\\Anaconda3\\envs\\data-x\\lib\\site-packages\\ipykernel_launcher.py:6: SettingWithCopyWarning: \n",
      "A value is trying to be set on a copy of a slice from a DataFrame\n",
      "\n",
      "See the caveats in the documentation: http://pandas.pydata.org/pandas-docs/stable/indexing.html#indexing-view-versus-copy\n",
      "  \n",
      "C:\\Users\\mille\\Anaconda3\\envs\\data-x\\lib\\site-packages\\ipykernel_launcher.py:10: SettingWithCopyWarning: \n",
      "A value is trying to be set on a copy of a slice from a DataFrame\n",
      "\n",
      "See the caveats in the documentation: http://pandas.pydata.org/pandas-docs/stable/indexing.html#indexing-view-versus-copy\n",
      "  # Remove the CWD from sys.path while we load stuff.\n",
      "C:\\Users\\mille\\Anaconda3\\envs\\data-x\\lib\\site-packages\\ipykernel_launcher.py:8: SettingWithCopyWarning: \n",
      "A value is trying to be set on a copy of a slice from a DataFrame\n",
      "\n",
      "See the caveats in the documentation: http://pandas.pydata.org/pandas-docs/stable/indexing.html#indexing-view-versus-copy\n",
      "  \n"
     ]
    }
   ],
   "source": [
    "# Ind Variables: Area, Tank/Spray/AWL, Task, SQFT\n",
    "# Dep Var: Time for Work\n",
    "\n",
    "for i, string in enumerate(spray['Area']):\n",
    "    if 'UWH' in string:\n",
    "        spray['Area'][i] = \"UWH\"\n",
    "    elif 'FB' in string:\n",
    "        spray['Area'][i] = \"FB\"\n",
    "    elif 'Mast' in string:\n",
    "        spray['Area'][i] = \"Mast\""
   ]
  },
  {
   "cell_type": "code",
   "execution_count": 8,
   "metadata": {},
   "outputs": [
    {
     "name": "stdout",
     "output_type": "stream",
     "text": [
      " Train RMSE: 17.71\n",
      " Test RMSE: 30.33\n",
      "Train Variance score: 0.00\n",
      "Test Variance score: -0.10\n"
     ]
    },
    {
     "data": {
      "image/png": "[encoded data removed]",
      "text/plain": [
       "<Figure size 432x288 with 1 Axes>"
      ]
     },
     "metadata": {},
     "output_type": "display_data"
    }
   ],
   "source": [
    "# Compared to baseline model (MEAN AS BASELINE)\n",
    "\n",
    "X = spray['SQFT']\n",
    "Y = spray['Time']\n",
    "\n",
    "X_train, X_test, Y_train, Y_test = train_test_split(X,Y, test_size=0.2)\n",
    "y_pred_train = np.full((len(Y_train), 1), np.mean(Y_train))\n",
    "y_pred_test =  np.full((len(Y_test), 1), np.mean(Y_train))\n",
    "# RMSE Train\n",
    "print(\" Train RMSE: %.2f\"\n",
    "      % np.sqrt(mean_squared_error(Y_train, y_pred_train)))\n",
    "\n",
    "# RMSE Test\n",
    "print(\" Test RMSE: %.2f\"\n",
    "      % np.sqrt(mean_squared_error(Y_test, y_pred_test)))\n",
    "\n",
    "# Variances\n",
    "print('Train Variance score: %.2f' % r2_score(Y_train, y_pred_train))\n",
    "print('Test Variance score: %.2f' % r2_score(Y_test, y_pred_test))\n",
    "\n",
    "#Plot training output\n",
    "plt.scatter(X_train, Y_train, color= 'black')\n",
    "plt.plot(X_train, y_pred_train, color='blue', linewidth=3)\n",
    "\n",
    "plt.xticks(())\n",
    "plt.yticks(())\n",
    "plt.show()\n"
   ]
  },
  {
   "cell_type": "code",
   "execution_count": 7,
   "metadata": {},
   "outputs": [
    {
     "name": "stdout",
     "output_type": "stream",
     "text": [
      " Train RMSE: 21.17\n",
      " Test RMSE: 26.09\n",
      "Train Variance score: -0.11\n",
      "Test Variance score: -0.28\n"
     ]
    },
    {
     "data": {
      "image/png": "[encoded data removed]",
      "text/plain": [
       "<Figure size 432x288 with 1 Axes>"
      ]
     },
     "metadata": {},
     "output_type": "display_data"
    }
   ],
   "source": [
    "# Compared to baseline model (MEDIAN AS BASELINE)\n",
    "\n",
    "X = spray['SQFT']\n",
    "Y = spray['Time']\n",
    "\n",
    "X_train, X_test, Y_train, Y_test = train_test_split(X,Y, test_size=0.2)\n",
    "y_pred_train = np.full((len(Y_train), 1), np.median(Y_train))\n",
    "y_pred_test =  np.full((len(Y_test), 1), np.median(Y_train))\n",
    "# RMSE Train\n",
    "print(\" Train RMSE: %.2f\"\n",
    "      % np.sqrt(mean_squared_error(Y_train, y_pred_train)))\n",
    "\n",
    "# RMSE Test\n",
    "print(\" Test RMSE: %.2f\"\n",
    "      % np.sqrt(mean_squared_error(Y_test, y_pred_test)))\n",
    "\n",
    "# Variances\n",
    "print('Train Variance score: %.2f' % r2_score(Y_train, y_pred_train))\n",
    "print('Test Variance score: %.2f' % r2_score(Y_test, y_pred_test))\n"
   ]
  },
  {
   "cell_type": "code",
   "execution_count": 23,
   "metadata": {},
   "outputs": [
    {
     "name": "stdout",
     "output_type": "stream",
     "text": [
      "Coefficients: \n",
      " [0.00211189]\n",
      " Train RMSE: 15.09\n",
      " Test RMSE: 8.93\n",
      "Train Variance score: 0.53\n",
      "Test Variance score: 0.65\n"
     ]
    },
    {
     "name": "stderr",
     "output_type": "stream",
     "text": [
      "C:\\Users\\mille\\Anaconda3\\envs\\data-x\\lib\\site-packages\\ipykernel_launcher.py:6: FutureWarning: Method .as_matrix will be removed in a future version. Use .values instead.\n",
      "  \n",
      "C:\\Users\\mille\\Anaconda3\\envs\\data-x\\lib\\site-packages\\ipykernel_launcher.py:9: FutureWarning: Method .as_matrix will be removed in a future version. Use .values instead.\n",
      "  if __name__ == '__main__':\n"
     ]
    },
    {
     "data": {
      "image/png": "[encoded data removed]",
      "text/plain": [
       "<Figure size 432x288 with 1 Axes>"
      ]
     },
     "metadata": {},
     "output_type": "display_data"
    },
    {
     "data": {
      "image/png": "[encoded data removed]",
      "text/plain": [
       "<Figure size 432x288 with 1 Axes>"
      ]
     },
     "metadata": {},
     "output_type": "display_data"
    }
   ],
   "source": [
    "X = spray['SQFT']\n",
    "Y = spray['Time']\n",
    "\n",
    "X_train, X_test, Y_train, Y_test = train_test_split(X,Y, test_size=0.2)\n",
    "regr = linear_model.LinearRegression()\n",
    "X_train = X_train.as_matrix()\n",
    "X_train = X_train.reshape(-1,1)\n",
    "regr.fit(X_train, Y_train)\n",
    "X_test = X_test.as_matrix()\n",
    "X_test  = X_test.reshape(-1,1)\n",
    "y_pred_test = regr.predict(X_test)\n",
    "y_pred_train = regr.predict(X_train)\n",
    "\n",
    "#The coefficients\n",
    "print('Coefficients: \\n', regr.coef_)\n",
    "\n",
    "# RMSE Train\n",
    "print(\" Train RMSE: %.2f\"\n",
    "      % np.sqrt(mean_squared_error(Y_train, y_pred_train)))\n",
    "\n",
    "# RMSE Test\n",
    "print(\" Test RMSE: %.2f\"\n",
    "      % np.sqrt(mean_squared_error(Y_test, y_pred_test)))\n",
    "\n",
    "# Variances\n",
    "print('Train Variance score: %.2f' % r2_score(Y_train, y_pred_train))\n",
    "print('Test Variance score: %.2f' % r2_score(Y_test, y_pred_test))\n",
    "\n",
    "#Plot training output\n",
    "plt.scatter(X_train, Y_train, color= 'black')\n",
    "plt.plot(X_train, y_pred_train, color='blue', linewidth=3)\n",
    "\n",
    "plt.xticks(())\n",
    "plt.yticks(())\n",
    "plt.show()\n",
    "\n",
    "# Plot test output\n",
    "plt.scatter(X_test, Y_test,  color='black')\n",
    "plt.plot(X_test, y_pred_test, color='blue', linewidth=3)\n",
    "\n",
    "plt.xticks(())\n",
    "plt.yticks(())\n",
    "\n",
    "plt.show()\n",
    "\n"
   ]
  },
  {
   "cell_type": "code",
   "execution_count": 42,
   "metadata": {},
   "outputs": [
    {
     "name": "stderr",
     "output_type": "stream",
     "text": [
      "C:\\Users\\mille\\Anaconda3\\envs\\data-x\\lib\\site-packages\\ipykernel_launcher.py:6: FutureWarning: Method .as_matrix will be removed in a future version. Use .values instead.\n",
      "  \n",
      "C:\\Users\\mille\\Anaconda3\\envs\\data-x\\lib\\site-packages\\ipykernel_launcher.py:9: FutureWarning: Method .as_matrix will be removed in a future version. Use .values instead.\n",
      "  if __name__ == '__main__':\n",
      "C:\\Users\\mille\\Anaconda3\\envs\\data-x\\lib\\site-packages\\ipykernel_launcher.py:13: FutureWarning: Method .as_matrix will be removed in a future version. Use .values instead.\n",
      "  del sys.path[0]\n",
      "C:\\Users\\mille\\Anaconda3\\envs\\data-x\\lib\\site-packages\\ipykernel_launcher.py:15: FutureWarning: Method .as_matrix will be removed in a future version. Use .values instead.\n",
      "  from ipykernel import kernelapp as app\n"
     ]
    },
    {
     "name": "stdout",
     "output_type": "stream",
     "text": [
      "[  8.25   2.     1.     4.5    7.     2.    24.    51.5   37.     9.\n",
      "   6.    10.   100.5    8.     3.     2.5    9.5   17.75]\n"
     ]
    },
    {
     "data": {
      "image/png": "[encoded data removed]",
      "text/plain": [
       "<Figure size 432x288 with 1 Axes>"
      ]
     },
     "metadata": {},
     "output_type": "display_data"
    }
   ],
   "source": [
    "X = spray['SQFT']\n",
    "Y = spray['Time']\n",
    "\n",
    "X_train, X_test, Y_train, Y_test = train_test_split(X,Y, test_size=0.2)\n",
    "regr = linear_model.LinearRegression()\n",
    "X_train = X_train.as_matrix()\n",
    "X_train = X_train.reshape(-1,1)\n",
    "regr.fit(X_train, Y_train)\n",
    "X_test = X_test.as_matrix()\n",
    "X_test  = X_test.reshape(-1,1)\n",
    "y_pred_test = regr.predict(X_test)\n",
    "y_pred_test_baseline = np.full((len(Y_test), 1), np.mean(Y_train))\n",
    "print(Y_test.as_matrix())\n",
    "#print(y_pred_test_baseline)\n",
    "predpr_error = np.max(Y_test.as_matrix() - y_pred_test_baseline,0)/ Y_test\n",
    "pred_error = np.max(Y_test - y_pred_test, 0)/Y_test\n",
    "predpr_error = np.sort(predpr_error)\n",
    "pred_error = np.sort(pred_error)\n",
    "plt.plot(np.linspace(0,100,len(predpr_error)),predpr_error, color='red')\n",
    "plt.plot(np.linspace(0,100,len(pred_error)),pred_error, color='blue')\n",
    "\n",
    "plt.show()"
   ]
  },
  {
   "cell_type": "code",
   "execution_count": 72,
   "metadata": {},
   "outputs": [
    {
     "name": "stdout",
     "output_type": "stream",
     "text": [
      "Coefficients: \n",
      " [ 2.30153595e-03  1.21181343e-01 -1.77635684e-15 -1.31688289e+00\n",
      "  1.19570155e+00  3.07698476e+00  0.00000000e+00 -1.12150455e+01\n",
      " -1.01734347e+00  5.86127657e+00 -5.11120923e+00  1.10810485e+00\n",
      "  4.84612825e+00  0.00000000e+00 -8.42262226e+00  0.00000000e+00\n",
      "  0.00000000e+00 -2.00790696e+00  2.73512442e+00  1.50951080e+00\n",
      "  4.24800410e+00  1.18538519e+00  3.20360851e+00]\n",
      " Train RMSE: 16.04\n",
      " Test RMSE: 8.56\n",
      "Train Variance score: 0.46\n",
      "Test Variance score: 0.79\n"
     ]
    }
   ],
   "source": [
    "# Ind Variables: Area, Tank/Spray/AWL, Task, SQFT\n",
    "# Dep Var: Time\n",
    "\n",
    "\n",
    "frames = [spray['SQFT'], pd.get_dummies(spray['Tank/Spray/AWL']),pd.get_dummies(spray['Area']),\n",
    "          spray['UPR']]\n",
    "X = pd.concat(frames, axis=1)\n",
    "Y = spray['Time']\n",
    "\n",
    "X_train, X_test, Y_train, Y_test = train_test_split(X,Y, test_size=0.33)\n",
    "\n",
    "X_train1 = X_train.drop(columns='UPR')\n",
    "X_test1 = X_test.drop(columns='UPR')\n",
    "regr = linear_model.LinearRegression()\n",
    "regr.fit(X_train1, Y_train)\n",
    "y_pred_test = regr.predict(X_test1)\n",
    "y_pred_train = regr.predict(X_train1)\n",
    "\n",
    "#The coefficients\n",
    "print('Coefficients: \\n', regr.coef_)\n",
    "\n",
    "# RMSE Train\n",
    "print(\" Train RMSE: %.2f\"\n",
    "      % np.sqrt(mean_squared_error(Y_train, y_pred_train)))\n",
    "\n",
    "# RMSE Test\n",
    "print(\" Test RMSE: %.2f\"\n",
    "      % np.sqrt(mean_squared_error(Y_test, y_pred_test)))\n",
    "\n",
    "# Variances\n",
    "print('Train Variance score: %.2f' % r2_score(Y_train, y_pred_train))\n",
    "print('Test Variance score: %.2f' % r2_score(Y_test, y_pred_test))"
   ]
  },
  {
   "cell_type": "code",
   "execution_count": 75,
   "metadata": {},
   "outputs": [
    {
     "data": {
      "image/png": "[encoded data removed]",
      "text/plain": [
       "<Figure size 432x288 with 1 Axes>"
      ]
     },
     "metadata": {},
     "output_type": "display_data"
    }
   ],
   "source": [
    "y_predpr = X_test['SQFT']*(1/X_train['UPR'].mean())\n",
    "Y_val = Y_test\n",
    "y_pred = y_pred_test\n",
    "predpr_error = list(map(lambda x : max(x,0), Y_val - y_predpr))/Y_val\n",
    "pred_error = list(map(lambda x : max(x,0), Y_val - y_pred))/Y_val\n",
    "predpr_error = np.sort(predpr_error)\n",
    "pred_error = np.sort(pred_error)\n",
    "f = plt.figure()\n",
    "#Their model in RED\n",
    "plt.plot(np.linspace(0,100,len(predpr_error)),predpr_error, color='red')\n",
    "#Our model in BLUE\n",
    "plt.plot(np.linspace(0,100,len(pred_error)),pred_error, color='blue')\n",
    "f.suptitle('Spray - Error Comparison',fontsize=20, y = 1.0)\n",
    "plt.xlabel('Percentile')\n",
    "plt.ylabel('Relative Overtime Error')\n",
    "plt.show()"
   ]
  }
 ],
 "metadata": {
  "kernelspec": {
   "display_name": "Python 3",
   "language": "python",
   "name": "python3"
  },
  "language_info": {
   "codemirror_mode": {
    "name": "ipython",
    "version": 3
   },
   "file_extension": ".py",
   "mimetype": "text/x-python",
   "name": "python",
   "nbconvert_exporter": "python",
   "pygments_lexer": "ipython3",
   "version": "3.6.5"
  }
 },
 "nbformat": 4,
 "nbformat_minor": 2
}
