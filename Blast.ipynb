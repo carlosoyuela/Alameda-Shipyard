{
 "cells": [
  {
   "cell_type": "code",
   "execution_count": 1,
   "metadata": {},
   "outputs": [],
   "source": [
    "# Linear Regression model\n",
    "import pandas as pd\n",
    "import numpy as np\n",
    "import matplotlib.pyplot as plt\n",
    "import numpy as np\n",
    "from sklearn import datasets, linear_model\n",
    "from sklearn.metrics import mean_squared_error, r2_score\n",
    "from sklearn.model_selection import train_test_split"
   ]
  },
  {
   "cell_type": "code",
   "execution_count": 7,
   "metadata": {},
   "outputs": [
    {
     "data": {
      "text/plain": [
       "Index(['Spec', 'SQFT', 'Time taken to blast ', 'Unadjusted Production Rate'], dtype='object')"
      ]
     },
     "execution_count": 7,
     "metadata": {},
     "output_type": "execute_result"
    }
   ],
   "source": [
    "blast = pd.DataFrame(pd.read_excel('Blast.xlsx'))\n",
    "blast.columns\n",
    "blast_baseline = blast['Calculated Hours']\n",
    "blast = blast.drop(['Vessel ','Area ','Date', 'Exterior', '# of Painters', '# of Shifts', 'Length of Shift', 'Calculated Hours', 'Blast media ', 'Paint system ', 'Existing paint mils ', 'Difficulty ', 'Lessons learned ', 'Adjusted Production Rate'],axis = 1)\n",
    "blast = blast.dropna()\n",
    "blast.columns"
   ]
  },
  {
   "cell_type": "code",
   "execution_count": 3,
   "metadata": {},
   "outputs": [
    {
     "name": "stderr",
     "output_type": "stream",
     "text": [
      "C:\\Users\\mille\\Anaconda3\\envs\\data-x\\lib\\site-packages\\ipykernel_launcher.py:4: SettingWithCopyWarning: \n",
      "A value is trying to be set on a copy of a slice from a DataFrame\n",
      "\n",
      "See the caveats in the documentation: http://pandas.pydata.org/pandas-docs/stable/indexing.html#indexing-view-versus-copy\n",
      "  after removing the cwd from sys.path.\n",
      "C:\\Users\\mille\\Anaconda3\\envs\\data-x\\lib\\site-packages\\ipykernel_launcher.py:6: SettingWithCopyWarning: \n",
      "A value is trying to be set on a copy of a slice from a DataFrame\n",
      "\n",
      "See the caveats in the documentation: http://pandas.pydata.org/pandas-docs/stable/indexing.html#indexing-view-versus-copy\n",
      "  \n",
      "C:\\Users\\mille\\Anaconda3\\envs\\data-x\\lib\\site-packages\\ipykernel_launcher.py:8: SettingWithCopyWarning: \n",
      "A value is trying to be set on a copy of a slice from a DataFrame\n",
      "\n",
      "See the caveats in the documentation: http://pandas.pydata.org/pandas-docs/stable/indexing.html#indexing-view-versus-copy\n",
      "  \n"
     ]
    }
   ],
   "source": [
    "clean_spec = np.empty((len(blast['Spec']), 1), dtype=\"S10\")\n",
    "for i, string in enumerate(blast['Spec']):\n",
    "    if string[0:5] == 'SP-10':\n",
    "        blast['Spec'][i] = string[0:5]\n",
    "    elif len(string) > 4:\n",
    "        blast['Spec'][i] = string[0:4]\n",
    "    if string[0:3] == \"SP6\":\n",
    "        blast['Spec'][i] = \"SP-6\""
   ]
  },
  {
   "cell_type": "code",
   "execution_count": 7,
   "metadata": {},
   "outputs": [
    {
     "name": "stdout",
     "output_type": "stream",
     "text": [
      "RMSE: 83.07\n",
      "Train Variance score: 0.65\n"
     ]
    },
    {
     "data": {
      "image/png": "[encoded data removed]",
      "text/plain": [
       "<Figure size 432x288 with 1 Axes>"
      ]
     },
     "metadata": {},
     "output_type": "display_data"
    }
   ],
   "source": [
    "# Compared to their calculations /  baseline model\n",
    "import collections\n",
    "Y_hat = blast_baseline\n",
    "where_na = np.isnan(Y_hat)\n",
    "Y_hat[where_na] = 0\n",
    "# RMSE\n",
    "print(\"RMSE: %.2f\"\n",
    "      % np.sqrt(mean_squared_error(Y, Y_hat)))\n",
    "\n",
    "# Variances\n",
    "print('Train Variance score: %.2f' % r2_score(Y, Y_hat))\n",
    "\n",
    "#Plot training output\n",
    "plt.scatter(X, Y, color= 'black')\n",
    "\n",
    "X.size\n",
    "dictt = dict(zip(X,Y_hat))\n",
    "dictt =collections.OrderedDict(sorted(dictt.items()))\n",
    "X = np.fromiter(dictt.keys(), dtype=float)\n",
    "Y_hat = np.fromiter(dictt.values(), dtype=float)\n",
    "plt.plot(X, Y_hat, color='blue', linewidth=3)\n",
    "\n",
    "plt.xticks(())\n",
    "plt.yticks(())\n",
    "plt.show()"
   ]
  },
  {
   "cell_type": "code",
   "execution_count": 6,
   "metadata": {},
   "outputs": [
    {
     "name": "stdout",
     "output_type": "stream",
     "text": [
      "Coefficients: \n",
      " [0.01438526]\n",
      " Train RMSE: 114.83\n",
      " Test RMSE: 67.39\n",
      "Train Variance score: 0.43\n",
      "Test Variance score: -0.03\n"
     ]
    },
    {
     "name": "stderr",
     "output_type": "stream",
     "text": [
      "C:\\Users\\mille\\Anaconda3\\envs\\data-x\\lib\\site-packages\\ipykernel_launcher.py:8: FutureWarning: Method .as_matrix will be removed in a future version. Use .values instead.\n",
      "  \n",
      "C:\\Users\\mille\\Anaconda3\\envs\\data-x\\lib\\site-packages\\ipykernel_launcher.py:11: FutureWarning: Method .as_matrix will be removed in a future version. Use .values instead.\n",
      "  # This is added back by InteractiveShellApp.init_path()\n"
     ]
    },
    {
     "data": {
      "image/png": "[encoded data removed]",
      "text/plain": [
       "<Figure size 432x288 with 1 Axes>"
      ]
     },
     "metadata": {},
     "output_type": "display_data"
    },
    {
     "data": {
      "image/png": "[encoded data removed]",
      "text/plain": [
       "<Figure size 432x288 with 1 Axes>"
      ]
     },
     "metadata": {},
     "output_type": "display_data"
    }
   ],
   "source": [
    "# Mod1: Ind Var: SQFT\n",
    "\n",
    "X = blast['SQFT']\n",
    "Y = blast['Time taken to blast ']\n",
    "\n",
    "X_train, X_test, Y_train, Y_test = train_test_split(X,Y, test_size=0.2)\n",
    "regr = linear_model.LinearRegression()\n",
    "X_train = X_train.as_matrix()\n",
    "X_train = X_train.reshape(-1,1)\n",
    "regr.fit(X_train, Y_train)\n",
    "X_test = X_test.as_matrix()\n",
    "X_test  = X_test.reshape(-1,1)\n",
    "y_pred_test = regr.predict(X_test)\n",
    "y_pred_train = regr.predict(X_train)\n",
    "\n",
    "#The coefficients\n",
    "print('Coefficients: \\n', regr.coef_)\n",
    "\n",
    "# RMSE Train\n",
    "print(\" Train RMSE: %.2f\"\n",
    "      % np.sqrt(mean_squared_error(Y_train, y_pred_train)))\n",
    "\n",
    "# RMSE Test\n",
    "print(\" Test RMSE: %.2f\"\n",
    "      % np.sqrt(mean_squared_error(Y_test, y_pred_test)))\n",
    "\n",
    "# Variances\n",
    "print('Train Variance score: %.2f' % r2_score(Y_train, y_pred_train))\n",
    "print('Test Variance score: %.2f' % r2_score(Y_test, y_pred_test))\n",
    "\n",
    "#Plot training output\n",
    "plt.scatter(X_train, Y_train, color= 'black')\n",
    "plt.plot(X_train, y_pred_train, color='blue', linewidth=3)\n",
    "\n",
    "plt.xticks(())\n",
    "plt.yticks(())\n",
    "plt.show()\n",
    "\n",
    "# Plot test output\n",
    "plt.scatter(X_test, Y_test,  color='black')\n",
    "plt.plot(X_test, y_pred_test, color='blue', linewidth=3)\n",
    "\n",
    "plt.xticks(())\n",
    "plt.yticks(())\n",
    "\n",
    "plt.show()\n"
   ]
  },
  {
   "cell_type": "code",
   "execution_count": 26,
   "metadata": {},
   "outputs": [
    {
     "name": "stdout",
     "output_type": "stream",
     "text": [
      "Coefficients: \n",
      " [ 1.78388443e-02  8.16976017e+01  2.52671892e+01  5.64767874e+01\n",
      "  1.95351904e+01  2.12540939e+00 -3.68383613e+01 -3.54248891e+01\n",
      "  1.08773466e+01  5.25386782e+00 -1.61922713e+02  3.29525710e+01]\n",
      " Train RMSE: 76.09\n",
      " Test RMSE: 49.14\n",
      "Train Variance score: 0.77\n",
      "Test Variance score: 0.70\n"
     ]
    }
   ],
   "source": [
    "frames = [blast['SQFT'], pd.get_dummies(blast['Spec']), blast['Unadjusted Production Rate']]\n",
    "X = pd.concat(frames, axis=1)\n",
    "Y = blast['Time taken to blast ']\n",
    "\n",
    "X_train, X_test, Y_train, Y_test = train_test_split(X,Y, test_size=0.33)\n",
    "X_train1 = X_train.drop(columns='Unadjusted Production Rate')\n",
    "X_test1 = X_test.drop(columns='Unadjusted Production Rate')\n",
    "regr = linear_model.LinearRegression()\n",
    "regr.fit(X_train1, Y_train)\n",
    "y_pred_test = regr.predict(X_test1)\n",
    "y_pred_train = regr.predict(X_train1)\n",
    "\n",
    "\n",
    "\n",
    "\n",
    "\n",
    "#The coefficients\n",
    "print('Coefficients: \\n', regr.coef_)\n",
    "\n",
    "# RMSE Train\n",
    "print(\" Train RMSE: %.2f\"\n",
    "      % np.sqrt(mean_squared_error(Y_train, y_pred_train)))\n",
    "\n",
    "# RMSE Test\n",
    "print(\" Test RMSE: %.2f\"\n",
    "      % np.sqrt(mean_squared_error(Y_test, y_pred_test)))\n",
    "\n",
    "# Variances\n",
    "print('Train Variance score: %.2f' % r2_score(Y_train, y_pred_train))\n",
    "print('Test Variance score: %.2f' % r2_score(Y_test, y_pred_test))"
   ]
  },
  {
   "cell_type": "code",
   "execution_count": 28,
   "metadata": {},
   "outputs": [
    {
     "data": {
      "image/png": "[encoded data removed]",
      "text/plain": [
       "<Figure size 432x288 with 1 Axes>"
      ]
     },
     "metadata": {},
     "output_type": "display_data"
    }
   ],
   "source": [
    "y_predpr = X_test['SQFT']*(1/X_train['Unadjusted Production Rate'].mean())\n",
    "Y_val = Y_test\n",
    "y_pred = y_pred_test\n",
    "predpr_error = list(map(lambda x : max(x,0), Y_val - y_predpr))/Y_val\n",
    "pred_error = list(map(lambda x : max(x,0), Y_val - y_pred))/Y_val\n",
    "predpr_error = np.sort(predpr_error)\n",
    "pred_error = np.sort(pred_error)\n",
    "f = plt.figure()\n",
    "#Their model in RED\n",
    "plt.plot(np.linspace(0,100,len(predpr_error)),predpr_error, color='red')\n",
    "#Our model in BLUE\n",
    "plt.plot(np.linspace(0,100,len(pred_error)),pred_error, color='blue')\n",
    "f.suptitle('Blast - Error Comparison',fontsize=20, y = 1.0)\n",
    "plt.xlabel('Percentile')\n",
    "plt.ylabel('Relative Overtime Error')\n",
    "plt.show()"
   ]
  }
 ],
 "metadata": {
  "kernelspec": {
   "display_name": "Python 3",
   "language": "python",
   "name": "python3"
  },
  "language_info": {
   "codemirror_mode": {
    "name": "ipython",
    "version": 3
   },
   "file_extension": ".py",
   "mimetype": "text/x-python",
   "name": "python",
   "nbconvert_exporter": "python",
   "pygments_lexer": "ipython3",
   "version": "3.6.5"
  }
 },
 "nbformat": 4,
 "nbformat_minor": 2
}
